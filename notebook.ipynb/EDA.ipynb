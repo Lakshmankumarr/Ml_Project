{
 "cells": [
  {
   "cell_type": "markdown",
   "id": "5c23a2de",
   "metadata": {},
   "source": [
    "Student Performance Indicator"
   ]
  },
  {
   "cell_type": "markdown",
   "id": "8ae0d828",
   "metadata": {},
   "source": [
    "#####  Life cycle of Machine learning Project\n",
    "->Understanding the Problem Statement\n",
    "->Data Collection\n",
    "->Data Checks to perform\n",
    "->Exploratory data analysis\n",
    "->Data Pre-Processing\n",
    "->Model Training\n",
    "->Choose best model"
   ]
  },
  {
   "cell_type": "markdown",
   "id": "973a2058",
   "metadata": {},
   "source": [
    "1) Problem statement\n",
    "This project understands how the student's performance (test scores) is affected by other variables such as Gender, Ethnicity, Parental level of education, Lunch and Test preparation course."
   ]
  },
  {
   "cell_type": "markdown",
   "id": "4a0ab46d",
   "metadata": {},
   "source": [
    "2) Data Collection\n",
    "Dataset Source - https://www.kaggle.com/datasets/spscientist/students-performance-in-exams?datasetId=74977\n",
    "The data consists of 8 column and 1000 rows."
   ]
  },
  {
   "cell_type": "markdown",
   "id": "c5d4d0a9",
   "metadata": {},
   "source": [
    "2.1 Import Data and Required Packages\n",
    "Importing Pandas, Numpy, Matplotlib, Seaborn and Warings Library."
   ]
  },
  {
   "cell_type": "code",
   "execution_count": null,
   "id": "91808017",
   "metadata": {},
   "outputs": [],
   "source": [
    "import numpy as np\n",
    "import pandas as pd\n",
    "import seaborn as sns\n",
    "import matplotlib.pyplot as plt\n",
    "%matplotlib inline\n",
    "import warnings\n",
    "warnings.filterwarnings('ignore')"
   ]
  },
  {
   "cell_type": "markdown",
   "id": "d7f1d0ab",
   "metadata": {},
   "source": [
    "Import the CSV Data as Pandas DataFrame"
   ]
  },
  {
   "cell_type": "code",
   "execution_count": null,
   "id": "11673543",
   "metadata": {},
   "outputs": [],
   "source": [
    "df = pd.read_csv('D:/ml_projects/notebook.ipynb/data.csv')"
   ]
  },
  {
   "cell_type": "code",
   "execution_count": null,
   "id": "63259262",
   "metadata": {},
   "outputs": [],
   "source": [
    "# First Five rows of a dataset\n",
    "df.head()"
   ]
  },
  {
   "cell_type": "markdown",
   "id": "1623c843",
   "metadata": {},
   "source": [
    "Shape of the dataset"
   ]
  },
  {
   "cell_type": "code",
   "execution_count": null,
   "id": "490e8d01",
   "metadata": {},
   "outputs": [],
   "source": [
    "df.shape"
   ]
  },
  {
   "cell_type": "markdown",
   "id": "1155dc0b",
   "metadata": {},
   "source": [
    "2.2 Dataset information\n",
    "->gender : sex of students -> (Male/female)\n",
    "->race/ethnicity : ethnicity of students -> (Group A, B,C, D,E)\n",
    "->parental level of education : parents' final education ->(bachelor's degree,some college,master's degree,->associate's degree,high school)\n",
    "->lunch : having lunch before test (standard or free/reduced)\n",
    "->test preparation course : complete or not complete before test\n",
    "->math score\n",
    "->reading score\n",
    "->writing score"
   ]
  },
  {
   "cell_type": "code",
   "execution_count": null,
   "id": "76c9e28b",
   "metadata": {},
   "outputs": [],
   "source": [
    "# Dataset Information\n",
    "df.columns"
   ]
  },
  {
   "cell_type": "markdown",
   "id": "c9292fac",
   "metadata": {},
   "source": [
    "3) Data Checks to perform\n",
    "->Check Missing values\n",
    "->Check Duplicates  \n",
    "->Check data type\n",
    "->Check the number of unique values of each column\n",
    "->Check statistics of data set\n",
    "->Check various categories present in the different categorical column"
   ]
  },
  {
   "cell_type": "code",
   "execution_count": null,
   "id": "af2b44d2",
   "metadata": {},
   "outputs": [],
   "source": [
    "# 3.1 Checking Missing Values\n",
    "df.isna()"
   ]
  },
  {
   "cell_type": "code",
   "execution_count": null,
   "id": "c664ba52",
   "metadata": {},
   "outputs": [],
   "source": [
    "# 3.2 Check Duplicates\n",
    "df.duplicated().sum()"
   ]
  },
  {
   "cell_type": "code",
   "execution_count": null,
   "id": "40af5e33",
   "metadata": {},
   "outputs": [],
   "source": [
    "# 3.3 Check Datatype\n",
    "df.info()"
   ]
  },
  {
   "cell_type": "code",
   "execution_count": null,
   "id": "032f38f5",
   "metadata": {},
   "outputs": [],
   "source": [
    "# 3.4 Checking the number of unique values of each column\n",
    "df.nunique()"
   ]
  },
  {
   "cell_type": "code",
   "execution_count": null,
   "id": "e41abd11",
   "metadata": {},
   "outputs": [],
   "source": [
    "# 3.5 Check statistics of data set\n",
    "df.describe()"
   ]
  },
  {
   "cell_type": "markdown",
   "id": "8439c82f",
   "metadata": {},
   "source": [
    "Insight:\n",
    "->From above description of numerical data, all means are very close to each other - between 66 and 68.05;\n",
    "->All standard deviations are also close - between 14.6 and 15.19;\n",
    "->While there is a minimum score 0 for math, for writing minimum is much higher = 10 and for reading myet higher = 17"
   ]
  },
  {
   "cell_type": "code",
   "execution_count": null,
   "id": "b263a11c",
   "metadata": {},
   "outputs": [],
   "source": [
    "# 3.6 Check various categories present in the different categorical column\n",
    "numeric_features = [feature for feature in df.columns if df[feature].dtype != 'O']\n",
    "categorical_features = [feature for feature in df.columns if df[feature].dtype == 'O']\n",
    "\n",
    "# print columns\n",
    "print('We have {} numerical features : {}'.format(len(numeric_features), numeric_features))\n",
    "print('\\nWe have {} categorical features : {}'.format(len(categorical_features), categorical_features))"
   ]
  },
  {
   "cell_type": "code",
   "execution_count": null,
   "id": "15b58134",
   "metadata": {},
   "outputs": [],
   "source": [
    "# 3.7 Adding columns for \"Total Score\" and \"Average\"\n",
    "df['total score'] = df['math score'] + df['reading score'] + df['writing score']\n",
    "df['average'] = df['total score']/3\n",
    "df.head()"
   ]
  },
  {
   "cell_type": "code",
   "execution_count": null,
   "id": "835ccf24",
   "metadata": {},
   "outputs": [],
   "source": [
    "reading_full = df[df['reading score'] == 100]['average'].count()\n",
    "writing_full = df[df['writing score'] == 100]['average'].count()\n",
    "math_full = df[df['math score'] == 100]['average'].count()\n",
    "\n",
    "print(f'Number of students with full marks in Maths: {math_full}')\n",
    "print(f'Number of students with full marks in Writing: {writing_full}')\n",
    "print(f'Number of students with full marks in Reading: {reading_full}')"
   ]
  },
  {
   "cell_type": "code",
   "execution_count": null,
   "id": "54a886ec",
   "metadata": {},
   "outputs": [],
   "source": [
    "reading_less_20 = df[df['reading score'] <= 20]['average'].count()\n",
    "writing_less_20 = df[df['writing score'] <= 20]['average'].count()\n",
    "math_less_20 = df[df['math score'] <= 20]['average'].count()\n",
    "\n",
    "print(f'Number of students with less than 20 marks in Maths: {math_less_20}')\n",
    "print(f'Number of students with less than 20 marks in Writing: {writing_less_20}')\n",
    "print(f'Number of students with less than 20 marks in Reading: {reading_less_20}')"
   ]
  },
  {
   "cell_type": "markdown",
   "id": "f122c147",
   "metadata": {},
   "source": [
    "Insights:\n",
    "->From above values we get students have performed the worst in Maths\n",
    "->Best performance is in reading section"
   ]
  },
  {
   "cell_type": "markdown",
   "id": "b9ef7b43",
   "metadata": {},
   "source": [
    "4) Exploring Data ( Visualization )\n",
    "4.1 Visualize average score distribution to make some conclusion.\n",
    "\n",
    "Histogram\n",
    "\n",
    "Kernel Distribution Function (KDE)"
   ]
  },
  {
   "cell_type": "code",
   "execution_count": null,
   "id": "de3c1e36",
   "metadata": {},
   "outputs": [],
   "source": [
    "# 4.1.1 Histogram and KDE\n",
    "fig, axs = plt.subplots(1, 2, figsize=(15, 7))\n",
    "plt.subplot(121)\n",
    "sns.histplot(data=df,x='average',bins=30,kde=True,color='g')\n",
    "plt.subplot(122)\n",
    "sns.histplot(data=df,x='average',kde=True,hue='gender')\n",
    "plt.show()"
   ]
  },
  {
   "cell_type": "code",
   "execution_count": null,
   "id": "57307c04",
   "metadata": {},
   "outputs": [],
   "source": [
    "fig, axs = plt.subplots(1, 2, figsize=(15, 7))\n",
    "plt.subplot(121)\n",
    "sns.histplot(data=df,x='total score',bins=30,kde=True,color='g')\n",
    "plt.subplot(122)\n",
    "sns.histplot(data=df,x='total score',kde=True,hue='gender')\n",
    "plt.show()"
   ]
  },
  {
   "cell_type": "markdown",
   "id": "7be17853",
   "metadata": {},
   "source": [
    "Insights:\n",
    "\n",
    "Female students tend to perform well then male students"
   ]
  },
  {
   "cell_type": "code",
   "execution_count": null,
   "id": "c81b64be",
   "metadata": {},
   "outputs": [],
   "source": [
    "\n",
    "plt.subplots(1,3,figsize=(25,6))\n",
    "plt.subplot(141)\n",
    "sns.histplot(data=df,x='average',kde=True,hue='lunch')\n",
    "plt.subplot(142)\n",
    "sns.histplot(data=df[df.gender=='female'],x='average',kde=True,hue='lunch')\n",
    "plt.subplot(143)\n",
    "sns.histplot(data=df[df.gender=='male'],x='average',kde=True,hue='lunch')\n",
    "plt.show()"
   ]
  },
  {
   "cell_type": "markdown",
   "id": "f57d4c4b",
   "metadata": {},
   "source": [
    "Insights:\n",
    "\n",
    "Standard lunch helps perform well in exams.\n",
    "\n",
    "Standard lunch helps perform well in exams be it a male or a female."
   ]
  },
  {
   "cell_type": "code",
   "execution_count": null,
   "id": "617ef9d3",
   "metadata": {},
   "outputs": [],
   "source": [
    "plt.subplots(1,3,figsize=(25,6))\n",
    "plt.subplot(141)\n",
    "ax =sns.histplot(data=df,x='average',kde=True,hue='parental level of education')\n",
    "plt.subplot(142)\n",
    "ax =sns.histplot(data=df[df.gender=='male'],x='average',kde=True,hue='parental level of education')\n",
    "plt.subplot(143)\n",
    "ax =sns.histplot(data=df[df.gender=='female'],x='average',kde=True,hue='parental level of education')\n",
    "plt.show()\n"
   ]
  },
  {
   "cell_type": "markdown",
   "id": "87e6c5cb",
   "metadata": {},
   "source": [
    "Insights:\n",
    "\n",
    "In general parent's education don't help student perform well in exam.\n",
    "\n",
    "2nd plot shows that parent's whose education is of associate's degree or master's degree their male child tend to perform well in exam\n",
    "\n",
    "3rd plot we can see there is no effect of parent's education on female students."
   ]
  },
  {
   "cell_type": "code",
   "execution_count": null,
   "id": "04bf21a5",
   "metadata": {},
   "outputs": [],
   "source": [
    "plt.subplots(1,3,figsize=(25,6))\n",
    "plt.subplot(141)\n",
    "ax =sns.histplot(data=df,x='average',kde=True,hue='race/ethnicity')\n",
    "plt.subplot(142)\n",
    "ax =sns.histplot(data=df[df.gender=='female'],x='average',kde=True,hue='race/ethnicity')\n",
    "plt.subplot(143)\n",
    "ax =sns.histplot(data=df[df.gender=='male'],x='average',kde=True,hue='race/ethnicity')\n",
    "plt.show()"
   ]
  },
  {
   "cell_type": "code",
   "execution_count": null,
   "id": "dfb291bb",
   "metadata": {},
   "outputs": [],
   "source": [
    "# 4.2 Maximumum score of students in all three subjects\n",
    "plt.figure(figsize=(18,8))\n",
    "plt.subplot(1, 4, 1)\n",
    "plt.title('MATH SCORES')\n",
    "sns.violinplot(y='math score',data=df,color='red',linewidth=3)\n",
    "plt.subplot(1, 4, 2)\n",
    "plt.title('READING SCORES')\n",
    "sns.violinplot(y='reading score',data=df,color='green',linewidth=3)\n",
    "plt.subplot(1, 4, 3)\n",
    "plt.title('WRITING SCORES')\n",
    "sns.violinplot(y='writing score',data=df,color='blue',linewidth=3)\n",
    "plt.show()"
   ]
  },
  {
   "cell_type": "markdown",
   "id": "f769d248",
   "metadata": {},
   "source": [
    "Insights:\n",
    "\n",
    "From the above three plots its clearly visible that most of the students score in between 60-80 in Maths whereas in reading and writing most of them score from 50-80"
   ]
  },
  {
   "cell_type": "code",
   "execution_count": null,
   "id": "21658bb0",
   "metadata": {},
   "outputs": [],
   "source": [
    "# 4.3 Multivariate analysis using pieplot\n",
    "plt.rcParams['figure.figsize'] = (30, 12)\n",
    "\n",
    "plt.subplot(1, 5, 1)\n",
    "size = df['gender'].value_counts()\n",
    "labels = 'Female', 'Male'\n",
    "color = ['red','green']\n",
    "\n",
    "\n",
    "plt.pie(size, colors = color, labels = labels,autopct = '.%2f%%')\n",
    "plt.title('Gender', fontsize = 20)\n",
    "plt.axis('off')\n",
    "\n",
    "\n",
    "\n",
    "plt.subplot(1, 5, 2)\n",
    "size = df['race/ethnicity'].value_counts()\n",
    "labels = 'Group C', 'Group D','Group B','Group E','Group A'\n",
    "color = ['red', 'green', 'blue', 'cyan','orange']\n",
    "\n",
    "plt.pie(size, colors = color,labels = labels,autopct = '.%2f%%')\n",
    "plt.title('Race/Ethnicity', fontsize = 20)\n",
    "plt.axis('off')\n",
    "\n",
    "\n",
    "\n",
    "plt.subplot(1, 5, 3)\n",
    "size = df['lunch'].value_counts()\n",
    "labels = 'Standard', 'Free'\n",
    "color = ['red','green']\n",
    "\n",
    "plt.pie(size, colors = color,labels = labels,autopct = '.%2f%%')\n",
    "plt.title('Lunch', fontsize = 20)\n",
    "plt.axis('off')\n",
    "\n",
    "\n",
    "plt.subplot(1, 5, 4)\n",
    "size = df['test preparation course'].value_counts()\n",
    "labels = 'None', 'Completed'\n",
    "color = ['red','green']\n",
    "\n",
    "plt.pie(size, colors = color,labels = labels,autopct = '.%2f%%')\n",
    "plt.title('Test Course', fontsize = 20)\n",
    "plt.axis('off')\n",
    "\n",
    "\n",
    "plt.subplot(1, 5, 5)\n",
    "size = df['parental level of education'].value_counts()\n",
    "labels = 'Some College', \"Associate's Degree\",'High School','Some High School',\"Bachelor's Degree\",\"Master's Degree\"\n",
    "color = ['red', 'green', 'blue', 'cyan','orange','grey']\n",
    "\n",
    "plt.pie(size, colors = color,labels = labels,autopct = '.%2f%%')\n",
    "plt.title('Parental Education', fontsize = 20)\n",
    "plt.axis('off')\n",
    "\n",
    "\n",
    "plt.tight_layout()\n",
    "plt.grid()\n",
    "\n",
    "plt.show()"
   ]
  },
  {
   "cell_type": "markdown",
   "id": "f18997af",
   "metadata": {},
   "source": [
    "Insights:\n",
    "->Number of Male and Female students is almost equal\n",
    "->Number students are greatest in Group C\n",
    "->Number of students who have standard lunch are greater\n",
    "->Number of students who have not enrolled in any test preparation course is greater\n",
    "->Number of students whose parental education is \"Some College\" is greater followed closely by \"Associate's Degree\""
   ]
  },
  {
   "cell_type": "markdown",
   "id": "97be4e13",
   "metadata": {},
   "source": [
    "4.4 Feature Wise Visualization"
   ]
  },
  {
   "cell_type": "markdown",
   "id": "7062112f",
   "metadata": {},
   "source": [
    "# 4.4.1 GENDER COLUMN\n",
    "\n",
    "How is distribution of Gender ?\n",
    "\n",
    "Is gender has any impact on student's performance ?"
   ]
  },
  {
   "cell_type": "code",
   "execution_count": null,
   "id": "305ceff6",
   "metadata": {},
   "outputs": [],
   "source": [
    "f,ax=plt.subplots(1,2,figsize=(20,10))\n",
    "sns.countplot(x=df['gender'],data=df,palette ='bright',ax=ax[0],saturation=0.95)\n",
    "for container in ax[0].containers:\n",
    "    ax[0].bar_label(container,color='black',size=20)\n",
    "    \n",
    "plt.pie(x=df['gender'].value_counts(),labels=['Male','Female'],explode=[0,0.1],autopct='%1.1f%%',shadow=True,colors=['#ff4d4d','#ff8000'])\n",
    "plt.show()"
   ]
  },
  {
   "cell_type": "markdown",
   "id": "760362e7",
   "metadata": {},
   "source": [
    "Insights:\n",
    "\n",
    "Gender has balanced data with female students are 518 (48%) and male students are 482 (52%)"
   ]
  },
  {
   "cell_type": "code",
   "execution_count": null,
   "id": "4e9ea4f8",
   "metadata": {},
   "outputs": [],
   "source": [
    "# Select numeric columns automatically\n",
    "gender_group = df.groupby('gender')[df.select_dtypes(include='number').columns].mean()\n"
   ]
  },
  {
   "cell_type": "code",
   "execution_count": null,
   "id": "94da4086",
   "metadata": {},
   "outputs": [],
   "source": [
    "plt.figure(figsize=(10, 8))\n",
    "\n",
    "X = ['Total Average','Math Average']\n",
    "\n",
    "\n",
    "female_scores = [gender_group['average'][0], gender_group['math score'][0]]\n",
    "male_scores = [gender_group['average'][1], gender_group['math score'][1]]\n",
    "\n",
    "X_axis = np.arange(len(X))\n",
    "  \n",
    "plt.bar(X_axis - 0.2, male_scores, 0.4, label = 'Male')\n",
    "plt.bar(X_axis + 0.2, female_scores, 0.4, label = 'Female')\n",
    "  \n",
    "plt.xticks(X_axis, X)\n",
    "plt.ylabel(\"Marks\")\n",
    "plt.title(\"Total average v/s Math average marks of both the genders\", fontweight='bold')\n",
    "plt.legend()\n",
    "plt.show()"
   ]
  },
  {
   "cell_type": "markdown",
   "id": "81c17662",
   "metadata": {},
   "source": [
    "Insights:\n",
    "->On an average females have a better overall score than men.\n",
    "->whereas males have scored higher in Maths."
   ]
  },
  {
   "cell_type": "markdown",
   "id": "9cde2d56",
   "metadata": {},
   "source": [
    "4.4.2 RACE/EHNICITY COLUMN\n",
    "How is Group wise distribution ?\n",
    "Is Race/Ehnicity has any impact on student's performance ?"
   ]
  },
  {
   "cell_type": "code",
   "execution_count": null,
   "id": "a9aa0d15",
   "metadata": {},
   "outputs": [],
   "source": [
    "# UNIVARIATE ANALYSIS ( How is Group wise distribution ?)\n",
    "f,ax=plt.subplots(1,2,figsize=(20,10))\n",
    "sns.countplot(x=df['race/ethnicity'],data=df,palette = 'bright',ax=ax[0],saturation=0.95)\n",
    "for container in ax[0].containers:\n",
    "    ax[0].bar_label(container,color='black',size=20)\n",
    "    \n",
    "plt.pie(x = df['race/ethnicity'].value_counts(),labels=df['race/ethnicity'].value_counts().index,explode=[0.1,0,0,0,0],autopct='%1.1f%%',shadow=True)\n",
    "plt.show()   "
   ]
  },
  {
   "cell_type": "markdown",
   "id": "4b916857",
   "metadata": {},
   "source": [
    "Insights:\n",
    "->Most of the student belonging from group C /group D.\n",
    "->Lowest number of students belong to groupA"
   ]
  },
  {
   "cell_type": "code",
   "execution_count": null,
   "id": "b4d267a8",
   "metadata": {},
   "outputs": [],
   "source": [
    "#BIVARIATE ANALYSIS ( Is Race/Ehnicity has any impact on student's performance ? )\n",
    "Group_data2=df.groupby('race/ethnicity')\n",
    "f,ax=plt.subplots(1,3,figsize=(20,8))\n",
    "sns.barplot(x=Group_data2['math score'].mean().index,y=Group_data2['math score'].mean().values,palette = 'mako',ax=ax[0])\n",
    "ax[0].set_title('Math score',color='#005ce6',size=20)\n",
    "\n",
    "for container in ax[0].containers:\n",
    "    ax[0].bar_label(container,color='black',size=15)\n",
    "\n",
    "sns.barplot(x=Group_data2['reading score'].mean().index,y=Group_data2['reading score'].mean().values,palette = 'flare',ax=ax[1])\n",
    "ax[1].set_title('Reading score',color='#005ce6',size=20)\n",
    "\n",
    "for container in ax[1].containers:\n",
    "    ax[1].bar_label(container,color='black',size=15)\n",
    "\n",
    "sns.barplot(x=Group_data2['writing score'].mean().index,y=Group_data2['writing score'].mean().values,palette = 'coolwarm',ax=ax[2])\n",
    "ax[2].set_title('Writing score',color='#005ce6',size=20)\n",
    "\n",
    "for container in ax[2].containers:\n",
    "    ax[2].bar_label(container,color='black',size=15)"
   ]
  },
  {
   "cell_type": "markdown",
   "id": "6f5e1a1d",
   "metadata": {},
   "source": [
    "Insights:\n",
    "->Group E students have scored the highest marks.\n",
    "->Group A students have scored the lowest marks.\n",
    "->Students from a lower Socioeconomic status have a lower avg in all course subjects"
   ]
  },
  {
   "cell_type": "markdown",
   "id": "2cee6933",
   "metadata": {},
   "source": [
    "4.4.3 PARENTAL LEVEL OF EDUCATION COLUMN\n",
    "What is educational background of student's parent ?\n",
    "Is parental education has any impact on student's performance ?"
   ]
  },
  {
   "cell_type": "code",
   "execution_count": null,
   "id": "d988db9c",
   "metadata": {},
   "outputs": [],
   "source": [
    "# UNIVARIATE ANALYSIS ( What is educational background of student's parent ? )\n",
    "plt.rcParams['figure.figsize'] = (15, 9)\n",
    "plt.style.use('fivethirtyeight')\n",
    "sns.countplot(df['parental level of education'], palette = 'Blues')\n",
    "plt.title('Comparison of Parental Education', fontweight = 30, fontsize = 20)\n",
    "plt.xlabel('Degree')\n",
    "plt.ylabel('count')\n",
    "plt.show()"
   ]
  },
  {
   "cell_type": "markdown",
   "id": "713b9139",
   "metadata": {},
   "source": [
    "Insights:\n",
    "Largest number of parents are from some college."
   ]
  },
  {
   "cell_type": "code",
   "execution_count": null,
   "id": "90cd58fb",
   "metadata": {},
   "outputs": [],
   "source": [
    "df['average_score'] = df[['math score','reading score','writing score']].mean(axis=1)\n",
    "df.groupby('parental level of education')['average_score'].mean().plot(kind='barh', figsize=(10,6))\n",
    "plt.show()\n"
   ]
  },
  {
   "cell_type": "markdown",
   "id": "54c14d18",
   "metadata": {},
   "source": [
    "Insights:\n",
    "->The score of student whose parents possess master and bachelor level education are higher than others."
   ]
  },
  {
   "cell_type": "markdown",
   "id": "d01f3616",
   "metadata": {},
   "source": [
    "BIVARIATE ANALYSIS(Is Test Preparation course has any impact on students performance?)"
   ]
  },
  {
   "cell_type": "code",
   "execution_count": null,
   "id": "49856d10",
   "metadata": {},
   "outputs": [],
   "source": [
    "plt.figure(figsize=(12,6))\n",
    "plt.subplot(2,2,1)\n",
    "sns.barplot (x=df['lunch'], y=df['math score'], hue=df['test preparation course'])\n",
    "plt.subplot(2,2,2)\n",
    "sns.barplot (x=df['lunch'], y=df['reading score'], hue=df['test preparation course'])\n",
    "plt.subplot(2,2,3)\n",
    "sns.barplot (x=df['lunch'], y=df['writing score'], hue=df['test preparation course'])"
   ]
  },
  {
   "cell_type": "markdown",
   "id": "78cc077f",
   "metadata": {},
   "source": [
    "Insights:\n",
    "->Students who have completed the Test Prepration Course have scores higher in all three categories than those who haven't taken the course"
   ]
  },
  {
   "cell_type": "code",
   "execution_count": null,
   "id": "fe5f7e39",
   "metadata": {},
   "outputs": [],
   "source": [
    "#Checking Outliers\n",
    "plt.subplots(1,4,figsize=(16,5))\n",
    "plt.subplot(141)\n",
    "sns.boxplot(df['math score'],color='skyblue')\n",
    "plt.subplot(142)\n",
    "sns.boxplot(df['reading score'],color='hotpink')\n",
    "plt.subplot(143)\n",
    "sns.boxplot(df['writing score'],color='yellow')\n",
    "plt.subplot(144)\n",
    "sns.boxplot(df['average'],color='lightgreen')\n",
    "plt.show()"
   ]
  },
  {
   "cell_type": "code",
   "execution_count": null,
   "id": "7062def6",
   "metadata": {},
   "outputs": [],
   "source": [
    "# 4.4.7 MUTIVARIATE ANALYSIS USING PAIRPLOT\n",
    "sns.pairplot(df,hue = 'gender')\n",
    "plt.show()"
   ]
  },
  {
   "cell_type": "markdown",
   "id": "6abb598b",
   "metadata": {},
   "source": [
    "Insights:\n",
    "->From the above plot it is clear that all the scores increase linearly with each other."
   ]
  },
  {
   "cell_type": "markdown",
   "id": "275f86e0",
   "metadata": {},
   "source": [
    "5. Conclusions\n",
    "-->Student's Performance is related with lunch, race, parental level education\n",
    "-->Females lead in pass percentage and also are top-scorers\n",
    "-->Student's Performance is not much related with test preparation course\n",
    "-->Finishing preparation course is benefitial."
   ]
  }
 ],
 "metadata": {
  "kernelspec": {
   "display_name": "Python 3",
   "language": "python",
   "name": "python3"
  },
  "language_info": {
   "codemirror_mode": {
    "name": "ipython",
    "version": 3
   },
   "file_extension": ".py",
   "mimetype": "text/x-python",
   "name": "python",
   "nbconvert_exporter": "python",
   "pygments_lexer": "ipython3",
   "version": "3.11.1"
  }
 },
 "nbformat": 4,
 "nbformat_minor": 5
}
